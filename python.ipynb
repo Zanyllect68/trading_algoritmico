{
 "cells": [
  {
   "cell_type": "markdown",
   "id": "5e39196d",
   "metadata": {},
   "source": [
    "# CLASE 1 - INTRODUCCIÓN A PYTHON\n",
    "\n",
    "## VARIABLES , TIPOS DE DATOS , OPERACIONES"
   ]
  },
  {
   "cell_type": "code",
   "execution_count": 33,
   "id": "628fea75",
   "metadata": {},
   "outputs": [],
   "source": [
    "Entero = 5\n",
    "Decimal = 1.70\n",
    "texto = \"Andres\"\n",
    "Booleano = True\n"
   ]
  },
  {
   "cell_type": "code",
   "execution_count": 34,
   "id": "d1b8bf1c",
   "metadata": {},
   "outputs": [
    {
     "name": "stdout",
     "output_type": "stream",
     "text": [
      "5\n",
      "1.7\n",
      "Andres\n",
      "True\n",
      "el nombre es : Andres y tengo una altura de 1.7 metros\n"
     ]
    }
   ],
   "source": [
    "print(Entero)\n",
    "print(Decimal)\n",
    "print(texto)\n",
    "print(Booleano)\n",
    "# Esto es un f String\n",
    "print(f\"el nombre es : {texto} y tengo una altura de {Decimal} metros\")"
   ]
  },
  {
   "cell_type": "markdown",
   "id": "a02afd83",
   "metadata": {},
   "source": [
    "## OPERACIONES"
   ]
  },
  {
   "cell_type": "code",
   "execution_count": 35,
   "id": "dde0b782",
   "metadata": {},
   "outputs": [],
   "source": [
    "suma = 4 + 6 \n",
    "resta = 10 - 2\n",
    "multiplicacion = 5 * 3\n",
    "division = 8 / 2\n"
   ]
  },
  {
   "cell_type": "code",
   "execution_count": 36,
   "id": "848f9606",
   "metadata": {},
   "outputs": [
    {
     "name": "stdout",
     "output_type": "stream",
     "text": [
      "10\n",
      "8\n",
      "15\n",
      "4.0\n"
     ]
    }
   ],
   "source": [
    "print(suma)\n",
    "print(resta)\n",
    "print(multiplicacion)\n",
    "print(division)"
   ]
  },
  {
   "cell_type": "markdown",
   "id": "a236af97",
   "metadata": {},
   "source": [
    "## TIPOS DE DATOS\n",
    "\n",
    "### LISTAS\n"
   ]
  },
  {
   "cell_type": "code",
   "execution_count": 41,
   "id": "ded893ae",
   "metadata": {},
   "outputs": [
    {
     "name": "stdout",
     "output_type": "stream",
     "text": [
      "2\n",
      "3.4\n",
      "text\n",
      "[2, 3.4, 'text']\n",
      "[2, 7.8, 'text']\n",
      "[5, 6, [7, 8], 'otro texto']\n",
      "[5, 6, [7, 8], 'otro texto', 'nuevo elemento']\n"
     ]
    }
   ],
   "source": [
    "#          0     1      2\n",
    "lista_1 = [2, 3.4, \"text\"]\n",
    "\n",
    "\n",
    "len(lista_1) # Saber la longitud de la lista\n",
    "\n",
    "for x in range(len(lista_1)): # recorrer la lista e imprimir cada elemento\n",
    "    print(lista_1[x])\n",
    "\n",
    "type(lista_1) # Saber el tipo de dato\n",
    "print(lista_1) # Imprimir toda la lista\n",
    "\n",
    "\n",
    "lista_1[1] = 7.8 # Modificar un elemento de la lista\n",
    "print(lista_1)\n",
    "\n",
    "lista_2 = [5, 6, [7, 8], \"otro texto\"] # Lista anidada\n",
    "print(lista_2)\n",
    "\n",
    "lista_2.append(\"nuevo elemento\") # Agregar un elemento al final de la lista\n",
    "print(lista_2)\n"
   ]
  }
 ],
 "metadata": {
  "kernelspec": {
   "display_name": "Python 3",
   "language": "python",
   "name": "python3"
  },
  "language_info": {
   "codemirror_mode": {
    "name": "ipython",
    "version": 3
   },
   "file_extension": ".py",
   "mimetype": "text/x-python",
   "name": "python",
   "nbconvert_exporter": "python",
   "pygments_lexer": "ipython3",
   "version": "3.12.10"
  }
 },
 "nbformat": 4,
 "nbformat_minor": 5
}
