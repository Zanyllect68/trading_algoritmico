{
 "cells": [
  {
   "cell_type": "markdown",
   "id": "5e39196d",
   "metadata": {},
   "source": [
    "# CLASE 1 - INTRODUCCIÓN A PYTHON\n",
    "\n",
    "## VARIABLES , TIPOS DE DATOS , OPERACIONES"
   ]
  },
  {
   "cell_type": "code",
   "execution_count": 33,
   "id": "628fea75",
   "metadata": {},
   "outputs": [],
   "source": [
    "Entero = 5\n",
    "Decimal = 1.70\n",
    "texto = \"Andres\"\n",
    "Booleano = True\n"
   ]
  },
  {
   "cell_type": "code",
   "execution_count": 34,
   "id": "d1b8bf1c",
   "metadata": {},
   "outputs": [
    {
     "name": "stdout",
     "output_type": "stream",
     "text": [
      "5\n",
      "1.7\n",
      "Andres\n",
      "True\n",
      "el nombre es : Andres y tengo una altura de 1.7 metros\n"
     ]
    }
   ],
   "source": [
    "print(Entero)\n",
    "print(Decimal)\n",
    "print(texto)\n",
    "print(Booleano)\n",
    "# Esto es un f String\n",
    "print(f\"el nombre es : {texto} y tengo una altura de {Decimal} metros\")"
   ]
  },
  {
   "cell_type": "markdown",
   "id": "a02afd83",
   "metadata": {},
   "source": [
    "## OPERACIONES"
   ]
  },
  {
   "cell_type": "code",
   "execution_count": 42,
   "id": "dde0b782",
   "metadata": {},
   "outputs": [],
   "source": [
    "suma = 4 + 6 \n",
    "resta = 10 - 2\n",
    "multiplicacion = 5 * 3\n",
    "division = 8 / 2\n"
   ]
  },
  {
   "cell_type": "code",
   "execution_count": 36,
   "id": "848f9606",
   "metadata": {},
   "outputs": [
    {
     "name": "stdout",
     "output_type": "stream",
     "text": [
      "10\n",
      "8\n",
      "15\n",
      "4.0\n"
     ]
    }
   ],
   "source": [
    "print(suma)\n",
    "print(resta)\n",
    "print(multiplicacion)\n",
    "print(division)"
   ]
  },
  {
   "cell_type": "markdown",
   "id": "a236af97",
   "metadata": {},
   "source": [
    "## TIPOS DE DATOS\n",
    "\n",
    "### LISTAS\n"
   ]
  },
  {
   "cell_type": "code",
   "execution_count": 66,
   "id": "ded893ae",
   "metadata": {},
   "outputs": [
    {
     "name": "stdout",
     "output_type": "stream",
     "text": [
      "2\n",
      "3.4\n",
      "text\n",
      "[2, 3.4, 'text']\n",
      "[2, 7.8, 'text']\n",
      "[7, 8]\n",
      "7\n",
      "[5, 6, [7, 8], 'otro texto']\n",
      "[[0, 0, 0], [0, 0, 0]]\n",
      "[5, 6, [7, 8], 'otro texto', 'nuevo elemento']\n",
      "[[0, 2, 4, 6, 8], [0, 2, 4, 6, 8]]\n",
      "[2, 2, 3, 4, 5]\n"
     ]
    }
   ],
   "source": [
    "#          0     1      2\n",
    "lista_1 = [2, 3.4, \"text\"]\n",
    "\n",
    "\n",
    "len(lista_1) # Saber la longitud de la lista\n",
    "\n",
    "for x in range(len(lista_1)): # recorrer la lista e imprimir cada elemento\n",
    "    print(lista_1[x])\n",
    "\n",
    "type(lista_1) # Saber el tipo de dato\n",
    "print(lista_1) # Imprimir toda la lista\n",
    "\n",
    "\n",
    "lista_1[1] = 7.8 # Modificar un elemento de la lista\n",
    "print(lista_1)\n",
    "\n",
    "lista_2 = [5, 6, [7, 8], \"otro texto\"] # Lista anidada\n",
    "print(lista_2[2]) # Imprimir la sublista\n",
    "print(lista_2[2][0]) # Imprimir un elemento de la sublista\n",
    "print(lista_2)\n",
    "\n",
    "lista_3 = ([[0] * 3] * 2) # Crear una lista 2x3\n",
    "print(lista_3)\n",
    "\n",
    "lista_2.append(\"nuevo elemento\") # Agregar un elemento al final de la lista\n",
    "print(lista_2)\n",
    "\n",
    "\n",
    "mi_lista_nums = ([list(range(0,10,2))] * 2) #   Crear una lista con un rango de números pares del 0 al 10\n",
    "\n",
    "print(mi_lista_nums) # Imprimir la lista de números pares\n",
    "\n",
    "lista_nueva = [data := 2 , 2 , 3 , 4 , 5] # Crear una nueva lista usando el operador walrus\n",
    "# Que es walrus? https://peps.python.org/pep-0572/\n",
    "print(lista_nueva) # Imprimir la nueva lista\n"
   ]
  },
  {
   "cell_type": "markdown",
   "id": "dd75278c",
   "metadata": {},
   "source": [
    "### TUPLAS"
   ]
  },
  {
   "cell_type": "code",
   "execution_count": 73,
   "id": "0949ae81",
   "metadata": {},
   "outputs": [
    {
     "name": "stdout",
     "output_type": "stream",
     "text": [
      "(1, 2, 3, 'texto', 4.5)\n",
      "(('AAPL', '2023-10-01', 150.0, 10), ('AAPL', '2023-10-02', 2800.0, 5))\n",
      "2800.0\n",
      "(5, [1, 3, 10, 5, 6])\n"
     ]
    }
   ],
   "source": [
    "#¿Que es una tupla?\n",
    "#Las tuplas son estructuras de datos similares a las listas, pero son inmutables, lo que significa que no se pueden modificar una vez creadas. Se definen utilizando paréntesis en lugar de corchetes.\n",
    "\n",
    "tuple1 = (1, 2, 3, \"texto\", 4.5) # Crear una tupla\n",
    "print(tuple1) # Imprimir la tupla\n",
    "\n",
    "\n",
    "#Ejemplo en los trades\n",
    "trade_1 = (\"AAPL\", \"2023-10-01\", 150.0, 10) # (Símbolo, Fecha, Precio, Cantidad)\n",
    "trade_2 = (\"AAPL\", \"2023-10-02\", 2800.0, 5) # (Símbolo, Fecha, Precio, Cantidad)\n",
    "tupla_trades = (trade_1, trade_2) # Tupla que contiene múltiples trades\n",
    "print(tupla_trades) # Imprimir la tupla de trades\n",
    "print(tupla_trades[1][2]) # Imprimir el precio del segundo trade\n",
    "\n",
    "tupla_2 = (5,[1 ,3 ,4 ,5, 6] ) # Tupla que contiene una lista\n",
    "tupla_2[1][2] = 10 # Modificar un elemento de la lista dentro de la tupla\n",
    "print(tupla_2) # Imprimir la tupla modificada\n",
    "\n"
   ]
  },
  {
   "cell_type": "markdown",
   "id": "3bd97ae5",
   "metadata": {},
   "source": [
    "### DICCIONARIOS"
   ]
  },
  {
   "cell_type": "code",
   "execution_count": 86,
   "id": "97ad4acc",
   "metadata": {},
   "outputs": [
    {
     "name": "stdout",
     "output_type": "stream",
     "text": [
      "{'nombre': 'Andres', 'edad': 30, 'ciudad': 'Madrid'}\n",
      "Andres\n",
      "{'nombre': 'Andres', 'edad': 31, 'ciudad': 'Madrid'}\n",
      "2800.0\n",
      "{'trade_1': {'símbolo': 'AAPL', 'fecha': '2023-10-01', 'precio': 150.0, 'cantidad': 15}, 'trade_2': {'símbolo': 'AAPL', 'fecha': '2023-10-02', 'precio': 2800.0, 'cantidad': 5}}\n",
      "{'primero': {'símbolo': 'AAPL', 'fecha': '2023-10-01', 'precio': 150.0, 'cantidad': 15}, 'segundo': {'símbolo': 'AAPL', 'fecha': '2023-10-02', 'precio': 2800.0, 'cantidad': 5}}\n",
      "{'primero': {'símbolo': 'AAPL', 'fecha': '2023-10-01', 'precio': 150.0, 'cantidad': 15}, 'segundo': {'símbolo': 'AAPL', 'fecha': '2023-10-02', 'precio': 2800.0, 'cantidad': 5}, 'tercero': {'símbolo': 'AAPL', 'fecha': '2023-10-03', 'precio': 2800.0, 'cantidad': 5}}\n"
     ]
    }
   ],
   "source": [
    "diccionarios = {\n",
    "    \"nombre\": \"Andres\",\n",
    "    \"edad\": 30,\n",
    "    \"ciudad\": \"Madrid\"\n",
    "}\n",
    "print(diccionarios) # Imprimir el diccionario\n",
    "print(diccionarios[\"nombre\"]) # Acceder a un valor por su clave\n",
    "diccionarios[\"edad\"] = 31 # Modificar un valor\n",
    "print(diccionarios) # Imprimir el diccionario modificado\n",
    "#Ejemplo en los trades\n",
    "trade_dict = {\n",
    "    \"trade_1\": {\n",
    "        \"símbolo\": \"AAPL\",\n",
    "        \"fecha\": \"2023-10-01\",\n",
    "        \"precio\": 150.0,\n",
    "        \"cantidad\": 10\n",
    "    },\n",
    "    \"trade_2\": {\n",
    "        \"símbolo\": \"AAPL\",\n",
    "        \"fecha\": \"2023-10-02\",\n",
    "        \"precio\": 2800.0,\n",
    "        \"cantidad\": 5\n",
    "    }\n",
    "}\n",
    "# print(trade_dict) # Imprimir el diccionario de trades\n",
    "print(trade_dict[\"trade_2\"][\"precio\"]) # Acceder al precio del segundo trade\n",
    "trade_dict[\"trade_1\"][\"cantidad\"] = 15 # Modificar la cantidad del primer trade\n",
    "print(trade_dict) # Imprimir el diccionario de trades modificado\n",
    "\n",
    "\n",
    "lista_dict_1 = [\"primero\", \"segundo\"]\n",
    "\n",
    "trade_dict_2 ={\n",
    "    lista_dict_1[0]: trade_dict[\"trade_1\"],\n",
    "    lista_dict_1[1]: trade_dict[\"trade_2\"]\n",
    "}\n",
    "print(trade_dict_2) # Imprimir el diccionario usando elementos de la lista como claves\n",
    "\n",
    "trade_dict_2.update({\"tercero\": { # Agregar un nuevo trade al diccionario\n",
    "    \"símbolo\": \"AAPL\",\n",
    "    \"fecha\": \"2023-10-03\",\n",
    "    \"precio\": 2800.0,\n",
    "    \"cantidad\": 5\n",
    "}})\n",
    "print(trade_dict_2) # Imprimir el diccionario de trades actualizado"
   ]
  },
  {
   "cell_type": "markdown",
   "id": "fb418273",
   "metadata": {},
   "source": [
    "### DATAFRAMES"
   ]
  },
  {
   "cell_type": "code",
   "execution_count": 102,
   "id": "b8ad5197",
   "metadata": {},
   "outputs": [
    {
     "name": "stdout",
     "output_type": "stream",
     "text": [
      "  símbolo       fecha  precio  cantidad\n",
      "0    AAPL  2023-10-01   150.0        15\n",
      "1    AAPL  2023-10-02  2800.0         5\n",
      "2    AAPL  2023-10-03  2800.0         5\n",
      "0   2023-10-01\n",
      "1   2023-10-02\n",
      "2   2023-10-03\n",
      "Name: fecha, dtype: datetime64[ns]\n",
      "El precio promedio es: 1916.6666666666667\n",
      "   cierre\n",
      "0   150.0\n",
      "1  2800.0\n",
      "2  2800.0\n"
     ]
    },
    {
     "data": {
      "text/plain": [
       "np.float64(2800.0)"
      ]
     },
     "execution_count": 102,
     "metadata": {},
     "output_type": "execute_result"
    }
   ],
   "source": [
    "import pandas as pd\n",
    "\n",
    "# Convertir el diccionario de trades en una lista de dicts para crear el DataFrame correctamente\n",
    "trades_list = list(trade_dict_2.values())\n",
    "df = pd.DataFrame(trades_list) # Crear el DataFrame\n",
    "print(df) # Imprimir el DataFrame\n",
    "\n",
    "df['fecha'] = pd.to_datetime(df['fecha']) # Convertir la columna de fechas a tipo datetime\n",
    "print(df['fecha']) # Imprimir las fechas convertidas\n",
    "\n",
    "precio_promedio = df['precio'].mean() # Calcular el precio promedio\n",
    "print(f\"El precio promedio es: {precio_promedio}\") # Imprimir el precio promedio\n",
    "\n",
    "df_precio = df[['precio']].copy() # Extraer la columna de precios como DataFrame\n",
    "df_precio.rename(columns={'precio': 'cierre'}, inplace=True) # Renombrar la columna\n",
    "print(df_precio) # Imprimir el DataFrame de precios\n",
    "df_precio['cierre'].iloc[-1] # Último precio de cierre"
   ]
  }
 ],
 "metadata": {
  "kernelspec": {
   "display_name": "Python 3",
   "language": "python",
   "name": "python3"
  },
  "language_info": {
   "codemirror_mode": {
    "name": "ipython",
    "version": 3
   },
   "file_extension": ".py",
   "mimetype": "text/x-python",
   "name": "python",
   "nbconvert_exporter": "python",
   "pygments_lexer": "ipython3",
   "version": "3.12.10"
  }
 },
 "nbformat": 4,
 "nbformat_minor": 5
}
